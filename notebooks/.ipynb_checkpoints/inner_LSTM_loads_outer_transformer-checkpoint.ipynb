{
 "cells": [
  {
   "cell_type": "markdown",
   "id": "31c3a0f7-1774-4afc-9c41-0627ef5b4fa6",
   "metadata": {},
   "source": [
    "# Nested encoder that will take in EncTransformDec"
   ]
  },
  {
   "cell_type": "code",
   "execution_count": 1,
   "id": "b9251196-c86e-44e6-b9a5-9a4ed9736722",
   "metadata": {},
   "outputs": [],
   "source": [
    "import tensorflow as tf\n",
    "import tensorflow_addons as tfa\n",
    "import tensorflow.keras as keras\n",
    "import sys\n",
    "\n",
    "import numpy as np\n",
    "import pickle, random, string\n",
    "import matplotlib.pyplot as plt\n",
    "%matplotlib inline\n",
    "\n",
    "# Visualization\n",
    "from IPython.display import display"
   ]
  },
  {
   "cell_type": "code",
   "execution_count": 2,
   "id": "2c0dd44e-18df-4c28-84ce-db1bcf6512c8",
   "metadata": {},
   "outputs": [],
   "source": [
    "\n",
    "# class PositionEmbedding(keras.layers.Layer):\n",
    "#     def __init__(self,maxlen,embed_dim, *args, **kwargs):\n",
    "#         super(PositionEmbedding, self).__init__(*args,**kwargs)\n",
    "#         self.pos_emb = keras.layers.Embedding(input_dim=maxlen,\n",
    "#                                               output_dim=embed_dim)\n",
    "#         self.maxlen = maxlen\n",
    "#         self.embed_dim = embed_dim\n",
    "        \n",
    "#     def call(self,x):\n",
    "#         maxlen = tf.shape(x)[1]\n",
    "#         print(maxlen)\n",
    "#         positions = tf.range(start=0,limit=maxlen,delta=1)\n",
    "#         positions = self.pos_emb(positions)\n",
    "#         print(tf.shape(positions))\n",
    "#         print(tf.shape(x))\n",
    "#         return x + positions\n",
    "    \n",
    "#     def get_config(self):\n",
    "#         config = super().get_config().copy()\n",
    "#         config.update({\n",
    "#             'maxlen': self.maxlen,\n",
    "#             'embed_dim': self.embed_dim \n",
    "#         })\n",
    "#         return config"
   ]
  },
  {
   "cell_type": "code",
   "execution_count": 3,
   "id": "4374f59e-2e37-4caa-95b5-214666be9a08",
   "metadata": {},
   "outputs": [],
   "source": [
    "class PositionEmbedding(keras.layers.Layer):\n",
    "    def __init__(self,maxlen,embed_dim, *args, **kwargs):\n",
    "        super(PositionEmbedding, self).__init__(*args,**kwargs)\n",
    "        self.pos_emb = keras.layers.Embedding(input_dim=maxlen,\n",
    "                                              output_dim=embed_dim)\n",
    "        self.maxlen = maxlen\n",
    "        self.embed_dim = embed_dim\n",
    "        \n",
    "    def call(self,x):\n",
    "        maxlen = tf.shape(x)[1]\n",
    "        print(maxlen)\n",
    "        positions = tf.range(start=0,limit=maxlen,delta=1)\n",
    "        positions = self.pos_emb(positions)\n",
    "        print(tf.shape(positions))\n",
    "        print(tf.shape(x))\n",
    "        return x + positions\n",
    "    \n",
    "    def get_config(self):\n",
    "        config = super().get_config().copy()\n",
    "        config.update({\n",
    "            'maxlen': self.maxlen,\n",
    "            'embed_dim': self.embed_dim \n",
    "        })\n",
    "        return config"
   ]
  },
  {
   "cell_type": "code",
   "execution_count": 4,
   "id": "fe26f0d1-2f2b-4bf5-9011-323a442a3f19",
   "metadata": {},
   "outputs": [],
   "source": [
    "class TransformerBlock(keras.layers.Layer):\n",
    "    def __init__(self, embed_dim, num_heads, ff_dim, rate=0.1, *args, **kwargs):\n",
    "        super(TransformerBlock, self).__init__(*args,**kwargs)\n",
    "        self.att = keras.layers.MultiHeadAttention(num_heads=num_heads,\n",
    "                                                   key_dim=embed_dim)\n",
    "        self.ffn = keras.Sequential(\n",
    "            [keras.layers.Dense(ff_dim, activation=\"gelu\"),\n",
    "             keras.layers.Dense(embed_dim),]\n",
    "        )\n",
    "        self.layernorm1 = keras.layers.LayerNormalization(epsilon=1e-6)\n",
    "        self.layernorm2 = keras.layers.LayerNormalization(epsilon=1e-6)\n",
    "        self.dropout1 = keras.layers.Dropout(rate)\n",
    "        self.dropout2 = keras.layers.Dropout(rate)\n",
    "        \n",
    "        self.embed_dim = embed_dim\n",
    "        self.num_heads = num_heads\n",
    "        self.ff_dim = ff_dim\n",
    "        self.rate = rate \n",
    "\n",
    "    def call(self, inputs, training):\n",
    "        attn_output = self.att(inputs, inputs)\n",
    "        attn_output = self.dropout1(attn_output, training=training)\n",
    "        out1 = self.layernorm1(inputs + attn_output)\n",
    "        ffn_output = self.ffn(out1)\n",
    "        ffn_output = self.dropout2(ffn_output, training=training)\n",
    "        return self.layernorm2(out1 + ffn_output)\n",
    "    \n",
    "    def get_config(self):\n",
    "        config = super().get_config().copy()\n",
    "        config.update({\n",
    "            'num_heads': self.num_heads, 'embed_dim': self.embed_dim,\n",
    "            'ff_dim': self.ff_dim, 'rate': self.rate\n",
    "        })\n",
    "        return config"
   ]
  },
  {
   "cell_type": "code",
   "execution_count": 5,
   "id": "160d0a72-330b-4384-b5f5-7112b117318a",
   "metadata": {},
   "outputs": [],
   "source": [
    "class MaskedTokenAndPositionEmbedding(keras.layers.Layer):\n",
    "    def __init__(self, maxlen, vocab_size, embed_dim, *args, **kwargs):\n",
    "        super(MaskedTokenAndPositionEmbedding, self).__init__(*args, **kwargs)\n",
    "        self.token_emb = keras.layers.Embedding(input_dim=vocab_size,\n",
    "                                                output_dim=embed_dim,\n",
    "                                                mask_zero=True)\n",
    "        self.pos_emb = keras.layers.Embedding(input_dim=maxlen+1,\n",
    "                                              output_dim=embed_dim,\n",
    "                                              mask_zero=True)\n",
    "        self.maxlen = maxlen\n",
    "        self.vocab_size = vocab_size\n",
    "        self.embed_dim = embed_dim\n",
    "\n",
    "    def call(self, x):\n",
    "        maxlen = tf.shape(x)[-1]\n",
    "        positions = tf.range(start=1, limit=maxlen+1, delta=1)\n",
    "        positions = positions * tf.cast(tf.sign(x),tf.int32)\n",
    "        positions = self.pos_emb(positions)\n",
    "        x = self.token_emb(x)\n",
    "        return x + positions\n",
    "\n",
    "    def get_config(self):\n",
    "        config = super().get_config().copy()\n",
    "        config.update({\n",
    "            'maxlen': self.maxlen,\n",
    "            'vocab_size': self.vocab_size,\n",
    "            'embed_dim': self.embed_dim\n",
    "        })\n",
    "        return config"
   ]
  },
  {
   "cell_type": "code",
   "execution_count": 6,
   "id": "d16f2e41-bb7a-4ace-bcef-eb37dcf395db",
   "metadata": {},
   "outputs": [],
   "source": [
    "class MaskedTransformerBlock(keras.layers.Layer):\n",
    "    def __init__(self, embed_dim, num_heads, ff_dim, rate=0.1, *args, **kwargs):\n",
    "        super(MaskedTransformerBlock, self).__init__(*args, **kwargs)\n",
    "        self.att1 = keras.layers.MultiHeadAttention(num_heads=num_heads,\n",
    "                                                    key_dim=embed_dim)\n",
    "        self.att2 = keras.layers.MultiHeadAttention(num_heads=num_heads,\n",
    "                                                    key_dim=embed_dim)\n",
    "        self.ffn = keras.Sequential(\n",
    "            [keras.layers.Dense(ff_dim, activation=\"gelu\"),\n",
    "             keras.layers.Dense(embed_dim),]\n",
    "        )\n",
    "        self.layernorm1 = keras.layers.LayerNormalization(epsilon=1e-6)\n",
    "        self.layernorm2 = keras.layers.LayerNormalization(epsilon=1e-6)\n",
    "        self.layernorm3 = keras.layers.LayerNormalization(epsilon=1e-6)\n",
    "        self.dropout1 = keras.layers.Dropout(rate)\n",
    "        self.dropout2 = keras.layers.Dropout(rate)\n",
    "        self.dropout3 = keras.layers.Dropout(rate)\n",
    "        \n",
    "        self.embed_dim = embed_dim\n",
    "        self.num_heads = num_heads\n",
    "        self.ff_dim = ff_dim\n",
    "        self.rate = rate \n",
    "        \n",
    "    def causal_attention_mask(self, batch_size, n_dest, n_src, dtype):\n",
    "        \"\"\"Masks the upper half of the dot product matrix in self attention.\n",
    "        This prevents flow of information from future tokens to current token.\n",
    "        1's in the lower triangle, counting from the lower right corner.\n",
    "        \"\"\"\n",
    "        i = tf.range(n_dest)[:, None]\n",
    "        j = tf.range(n_src)\n",
    "        m = i >= j - n_src + n_dest\n",
    "        mask = tf.cast(m, dtype)\n",
    "        mask = tf.reshape(mask, [1, n_dest, n_src])\n",
    "        mult = tf.concat(\n",
    "            [tf.expand_dims(batch_size, -1), tf.constant([1, 1], dtype=tf.int32)], 0\n",
    "        )\n",
    "        return tf.tile(mask, mult)\n",
    "\n",
    "    def call(self, inputs, training):\n",
    "        input_shape = tf.shape(inputs[0])\n",
    "        batch_size = input_shape[0]\n",
    "        seq_len = input_shape[1]\n",
    "        mask = self.causal_attention_mask(batch_size,\n",
    "                                         seq_len, seq_len,\n",
    "                                         tf.bool)\n",
    "        # mask = tf.linalg.band_part(tf.ones((seq_len, seq_len)), -1, 0)\n",
    "        attn_output1 = self.att1(inputs[0], inputs[0],\n",
    "                                 attention_mask = mask)\n",
    "        attn_output1 = self.dropout1(attn_output1, training=training)\n",
    "        out1 = self.layernorm1(inputs[0] + attn_output1)\n",
    "        attn_output2 = self.att2(out1, inputs[1])\n",
    "        attn_output2 = self.dropout2(attn_output2, training=training)\n",
    "        out2 = self.layernorm1(out1 + attn_output2)\n",
    "        ffn_output = self.ffn(out2)\n",
    "        ffn_output = self.dropout3(ffn_output, training=training)\n",
    "        return self.layernorm2(out2 + ffn_output)\n",
    "    \n",
    "    def get_config(self):\n",
    "        config = super().get_config().copy()\n",
    "        config.update({\n",
    "            'num_heads': self.num_heads, 'embed_dim': self.embed_dim,\n",
    "            'ff_dim': self.ff_dim, 'rate': self.rate\n",
    "        })\n",
    "        return config"
   ]
  },
  {
   "cell_type": "markdown",
   "id": "4329cace-4a51-4741-b0f7-c39a1050f3db",
   "metadata": {
    "tags": []
   },
   "source": [
    "# Import outer decoder"
   ]
  },
  {
   "cell_type": "code",
   "execution_count": 7,
   "id": "10f5b7b9-ed5b-4716-9f1b-c220cd18a91a",
   "metadata": {
    "tags": []
   },
   "outputs": [
    {
     "data": {
      "image/png": "[encoded data removed]",
      "text/plain": [
       "<IPython.core.display.Image object>"
      ]
     },
     "execution_count": 7,
     "metadata": {},
     "output_type": "execute_result"
    }
   ],
   "source": [
    "with open('../SavedModels/OuterTransformer/encoder_len53.json', 'r') as encoder_file, open('../SavedModels/OuterTransformer/decoder_len53.json', 'r') as decoder_file:\n",
    "    encoder_json = encoder_file.read()\n",
    "    decoder_json = decoder_file.read()\n",
    "outer_encoder = keras.models.model_from_json(encoder_json,custom_objects={\"PositionEmbedding\":PositionEmbedding,\"TransformerBlock\":TransformerBlock,\"MaskedTokenAndPositionEmbedding\": MaskedTokenAndPositionEmbedding, \"MaskedTransformerBlock\":MaskedTransformerBlock})\n",
    "outer_decoder = keras.models.model_from_json(decoder_json, custom_objects={\"PositionEmbedding\":PositionEmbedding,\"TransformerBlock\":TransformerBlock,\"MaskedTokenAndPositionEmbedding\": MaskedTokenAndPositionEmbedding, \"MaskedTransformerBlock\":MaskedTransformerBlock})\n",
    "outer_encoder.load_weights(\"../SavedModels/OuterTransformer/encoder_len53.h5\")\n",
    "outer_decoder.load_weights(\"../SavedModels/OuterTransformer/decoder_len53.h5\")\n",
    "keras.utils.plot_model(outer_encoder, show_shapes=True)\n",
    "keras.utils.plot_model(outer_decoder, show_shapes=True)"
   ]
  },
  {
   "cell_type": "markdown",
   "id": "2f0f24c3-937c-40f4-b6a5-010de04346b3",
   "metadata": {},
   "source": [
    "# load input data"
   ]
  },
  {
   "cell_type": "code",
   "execution_count": 8,
   "id": "baa8836f-815d-4d1c-9133-b167a44d8fa6",
   "metadata": {},
   "outputs": [],
   "source": [
    "# corpus = open('data/len5_10000-train.txt')#corpus = np.loadtxt(sys.argv[1], dtype=object)\n",
    "# corpus = np.loadtxt(corpus, dtype=object)\n",
    "\n",
    "# trainingSet = open('data/SG-10-train.txt')\n",
    "# testingSet  = open('data/SG-10-test.txt')\n",
    "\n",
    "# trainingSet = np.loadtxt(trainingSet, dtype=str)\n",
    "# testingSet  = np.loadtxt(testingSet, dtype=str)"
   ]
  },
  {
   "cell_type": "code",
   "execution_count": 9,
   "id": "44dbfd9a-bc8c-4f45-b83c-185279d95ca4",
   "metadata": {},
   "outputs": [],
   "source": [
    "corpus = open('../data/len5_10000-train.txt')#corpus = np.loadtxt(sys.argv[1], dtype=object)\n",
    "corpus = np.loadtxt(corpus, dtype=object)\n",
    "\n",
    "trainingSet = open('../data/SG-10-train.txt')\n",
    "testingSet  = open('../data/SG-10-test.txt')\n",
    "\n",
    "trainingSet = np.loadtxt(trainingSet, dtype=str)\n",
    "testingSet  = np.loadtxt(testingSet, dtype=str)"
   ]
  },
  {
   "cell_type": "code",
   "execution_count": 10,
   "id": "93fe0f13-d5f9-4e6d-ab9e-517d37587de8",
   "metadata": {},
   "outputs": [],
   "source": [
    "length = 10\n",
    "padded_length = 20\n",
    "\n",
    "embed_dim = 300 \n",
    "\n",
    "# Note we are making these the same, but they don't -have- to be!\n",
    "# input_length = padded_length\n",
    "# output_length = padded_length\n",
    "\n",
    "input_length = 5+1\n",
    "output_length = 5+1\n",
    "\n",
    "# Vocabulary sizes...\n",
    "encoder_vocab_size = 30 # blank, a, b, c, ... j (bc/SG-10)\n",
    "decoder_vocab_size = 30 # blank, a, b, c, ... j, start, stop"
   ]
  },
  {
   "cell_type": "code",
   "execution_count": 11,
   "id": "a03ddf53-6019-4cca-9eb4-ec56fd8970af",
   "metadata": {},
   "outputs": [],
   "source": [
    "# mapping function from characters to integers\n",
    "def letter_to_int(char_array):\n",
    "    # --- Create a dictionary for all the letters & start/stops ---\n",
    "    alphabet = np.array([i for i in range(1, 31)]) # All letters plus STARTSENTENCE, STOPSENTENCE, start, stop\n",
    "    mapping = dict()\n",
    "    for i in range(len(alphabet) - 4):\n",
    "        mapping[chr(ord('a') + i)] = alphabet[i]\n",
    "\n",
    "    mapping['start'] = alphabet[26]\n",
    "    mapping['stop']  = alphabet[27]\n",
    "    mapping['STARTSETNENCE'] = alphabet[28]\n",
    "    mapping['STOPSENTENCE']  = alphabet[29]\n",
    "    \n",
    "    # --- Map the characters in the input array to integers ---\n",
    "    x_input = char_array\n",
    "    x_input = [list(i) for i in x_input]\n",
    "    X = []\n",
    "    for word in x_input:\n",
    "        X.append([mapping[sym] for sym in word])\n",
    "        #print(\"word=\", word)\n",
    "    X = np.array(X)\n",
    "    \n",
    "    \n",
    "    # --- Create Y, preY, postY ---\n",
    "    Y = []\n",
    "    for word in X:\n",
    "        Y.append(np.concatenate((np.array([27]), word, np.array([28])), axis=0))\n",
    "\n",
    "    Y = np.array(Y)\n",
    "    preY  = Y[:, :-1]\n",
    "    postY = Y[:, 1:]\n",
    "    \n",
    "    return X, Y, preY, postY, mapping"
   ]
  },
  {
   "cell_type": "code",
   "execution_count": 12,
   "id": "d11571c4-2a67-4773-90d8-b674b148ec28",
   "metadata": {},
   "outputs": [],
   "source": [
    "# reverse mapping function \n",
    "def int_to_letter(encoding, mapping):\n",
    "    enc_shape = encoding.shape\n",
    "    \n",
    "    flat_encoding = encoding.flatten() # Flatten array to just one dimension\n",
    "    \n",
    "    # list out keys and values separately\n",
    "    key_list = list(mapping.keys())\n",
    "    val_list = list(mapping.values())\n",
    "\n",
    "    integers = []\n",
    "    for letter in flat_encoding:\n",
    "        integers.append(key_list[val_list.index(letter)])\n",
    "        \n",
    "    integers = np.array(integers)\n",
    "    integers = np.reshape(integers, enc_shape)\n",
    "    return integers"
   ]
  },
  {
   "cell_type": "code",
   "execution_count": 13,
   "id": "63023cd7-8407-4845-afc8-c2535d15c4b5",
   "metadata": {},
   "outputs": [],
   "source": [
    "X, Y, preY, postY, mapping = letter_to_int(corpus)"
   ]
  },
  {
   "cell_type": "code",
   "execution_count": 14,
   "id": "76255dc6-4f4d-4100-8bed-6be633feaa30",
   "metadata": {},
   "outputs": [],
   "source": [
    "# print(\"X.shape=\", X.shape)\n",
    "# print(\"Y.shape=\", Y.shape)\n",
    "# print(\"preY.shape=\", preY.shape)\n",
    "# print(\"postY.shape=\", postY.shape)"
   ]
  },
  {
   "cell_type": "markdown",
   "id": "929b20d4-8771-4357-b974-0d4bd2ad539e",
   "metadata": {},
   "source": [
    "# Inner LSTM"
   ]
  },
  {
   "cell_type": "code",
   "execution_count": 15,
   "id": "a2a87659-9855-4ede-a171-6996110e2fbb",
   "metadata": {},
   "outputs": [],
   "source": [
    "encoder_model = outer_encoder\n",
    "decoder_model = outer_decoder"
   ]
  },
  {
   "cell_type": "code",
   "execution_count": 16,
   "id": "290adf75-2b6a-4ca2-8dac-1224a3b5ddab",
   "metadata": {},
   "outputs": [],
   "source": [
    "#sample 10 indices from the coprus WOR\n",
    "corIdx = np.random.randint(0,high=len(corpus),size=20)\n",
    "#I could probably just do a np array of size 10000 \n",
    "corIdx = np.random.choice(corIdx,size=10,replace=False)\n",
    "\n",
    "outer_x = X[corIdx]\n",
    "outer_preY = preY[corIdx]\n",
    "outer_postY = postY[corIdx]\n",
    "\n",
    "outer_embeddings = outer_encoder.predict(outer_x)\n",
    "\n",
    "trainingSet_int = letter_to_int(trainingSet)[0]\n",
    "\n",
    "testingSet_int = letter_to_int(testingSet)[0]\n",
    "\n",
    "inner_x = np.array([outer_embeddings[trainingSet_int[x]-1] for x in range(len(trainingSet))]) #200 comes from the trainingSet \n",
    "inner_x_testing = np.array([outer_embeddings[testingSet_int[x]-1] for x in range(len(testingSet))])\n",
    "\n",
    "#need testing inner_postY_testing\n",
    "\n",
    "\n",
    "dog = np.zeros((1,5,300))\n",
    "dog.shape\n",
    "np.concatenate((dog, inner_x[0]))\n",
    "\n",
    "#make inner_postY and outer_postY\n",
    "dog = np.zeros((1,5,300))\n",
    "inner_preY = np.array([np.concatenate((dog,inner_x[i])) for i in range(len(inner_x))])\n",
    "inner_postY = np.array([np.concatenate((inner_x[i],dog)) for i in range(len(inner_x))])\n",
    "\n",
    "#testing postY and preY\n",
    "dog = np.zeros((1,5,300))\n",
    "dog.shape\n",
    "np.concatenate((dog, inner_x_testing[0]))\n",
    "\n",
    "dog = np.zeros((1,5,300))\n",
    "inner_preY_testing = np.array([np.concatenate((dog,inner_x_testing[i])) for i in range(len(inner_x_testing))])\n",
    "inner_postY_testing = np.array([np.concatenate((inner_x_testing[i],dog)) for i in range(len(inner_x_testing))])"
   ]
  },
  {
   "cell_type": "code",
   "execution_count": 17,
   "id": "60437d14-6470-4bfb-b848-ac2db040a4b8",
   "metadata": {},
   "outputs": [],
   "source": [
    "#inner encoder construction \n",
    "hidden_size = 300\n",
    "inner_encoder_input = keras.layers.Input(shape=(None,) + inner_x.shape[2:], name=\"inner_encoder_input\")\n",
    "#reshape layer here\n",
    "inner_encoder_reshape = keras.layers.Reshape((-1,1500))(inner_encoder_input)\n",
    "inner_encoder_hidden = keras.layers.LSTM(hidden_size, return_state=True, name=\"inner_encoder\") #pass layers in here"
   ]
  },
  {
   "cell_type": "code",
   "execution_count": 18,
   "id": "452a8f13-299a-46db-9dda-3e58b9afbaa1",
   "metadata": {},
   "outputs": [],
   "source": [
    "encoder_output, enc_state_h, enc_state_c = inner_encoder_hidden(inner_encoder_reshape)\n",
    "encoder_states = [enc_state_h, enc_state_c]"
   ]
  },
  {
   "cell_type": "code",
   "execution_count": 19,
   "id": "d7d28c5b-213a-4c91-b19d-496d14a86b84",
   "metadata": {},
   "outputs": [],
   "source": [
    "#inner decoder construction\n",
    "inner_decoder_input_1 = keras.layers.Input(shape=(None,) + inner_preY.shape[2:], name=\"inner_dec_token_1\")\n",
    "inner_decoder_reshape_layer = keras.layers.Reshape((-1,1500))\n",
    "inner_decoder_reshape = inner_decoder_reshape_layer(inner_decoder_input_1)\n",
    "inner_decoder_input_2 = keras.layers.Input(shape=(None, 2), name=\"dec_start/stop\")\n",
    "inner_decoder_concat_layer = keras.layers.Concatenate()\n",
    "inner_decoder_concat = inner_decoder_concat_layer([inner_decoder_reshape,inner_decoder_input_2])\n",
    "\n",
    "inner_decoder_hidden = keras.layers.LSTM(hidden_size,return_sequences=True,return_state=True,name=\"inner_decoder\") #need initial state for h and c"
   ]
  },
  {
   "cell_type": "code",
   "execution_count": 20,
   "id": "41527637-4303-48d1-83fa-f35b98b3e1f5",
   "metadata": {},
   "outputs": [],
   "source": [
    "#tie it together \n",
    "decoder_hidden_output, decoder_state_h, decoder_state_c = inner_decoder_hidden(inner_decoder_concat,\n",
    "                                                                         initial_state=encoder_states) #below swap this with new input layer"
   ]
  },
  {
   "cell_type": "code",
   "execution_count": 21,
   "id": "0b1912be-9141-4151-bffe-c148b2b8261b",
   "metadata": {},
   "outputs": [],
   "source": [
    "# decoder_dense_t1 = keras.layers.Dense(inner_encoder_reshape.shape[-1], activation='linear', name=\"token_1\")(decoder_hidden_output)\n",
    "# inner_output_reshape = keras.layers.Reshape((-1,inner_postY.shape[2],inner_postY.shape[3]))(decoder_dense_t1)\n",
    "# decoder_dense_t2 = keras.layers.Dense(2, activation='sigmoid', name=\"start/stop\")(decoder_hidden_output)"
   ]
  },
  {
   "cell_type": "code",
   "execution_count": 22,
   "id": "07048271-f5a3-43ed-a76c-62284b4dddf5",
   "metadata": {},
   "outputs": [],
   "source": [
    "inner_output_reshape_layer = keras.layers.Reshape((-1,inner_postY.shape[2], int(embed_dim / inner_postY.shape[2])))\n",
    "\n",
    "inner_output_reshape = inner_output_reshape_layer(decoder_hidden_output)\n",
    "\n",
    "decoder_dense_t1_layer = keras.layers.Dense(embed_dim, activation='linear', name=\"token_1\")\n",
    "\n",
    "decoder_dense_t1 = decoder_dense_t1_layer(inner_output_reshape)\n",
    "\n",
    "decoder_dense_t2_layer = keras.layers.Dense(2, activation='sigmoid', name=\"start/stop\")\n",
    "decoder_dense_t2 = decoder_dense_t2_layer(decoder_hidden_output)"
   ]
  },
  {
   "cell_type": "code",
   "execution_count": 23,
   "id": "2adeec94-aa16-4881-945e-aa63ff128f39",
   "metadata": {},
   "outputs": [],
   "source": [
    "inner_decoder_output = [decoder_dense_t1, decoder_dense_t2]"
   ]
  },
  {
   "cell_type": "code",
   "execution_count": 24,
   "id": "24142941-bd95-4939-ac7a-729f7f8acabc",
   "metadata": {},
   "outputs": [],
   "source": [
    "inner_model = keras.Model([inner_encoder_input,inner_decoder_input_1, inner_decoder_input_2],\n",
    "                         inner_decoder_output)"
   ]
  },
  {
   "cell_type": "code",
   "execution_count": 25,
   "id": "cd41d1a7-c8ff-4a83-82f2-d0aabaf0836d",
   "metadata": {},
   "outputs": [],
   "source": [
    "#make the pre start/stop which will have dimensions (200,4,2)\n",
    "#pre_start = np.array([[1,0,0,0] for x in range(0,200)])\n",
    "#is it just the exact same as Blake's\n",
    "s_s = {\"start\":[1,0],\"stop\":[0,1], \"none\":[0,0]}\n",
    "pre_start = np.zeros((inner_x.shape[0], 4, 2))\n",
    "post_stop = np.zeros((inner_x.shape[0], 4, 2))\n",
    "pre_start[:,0,:] = s_s[\"start\"]\n",
    "post_stop[:,3,:] = s_s[\"stop\"]"
   ]
  },
  {
   "cell_type": "code",
   "execution_count": 26,
   "id": "de7dcaec-93a9-4851-8679-d28fbaf6dfec",
   "metadata": {},
   "outputs": [],
   "source": [
    "inner_model.compile(loss = [keras.losses.MSE,keras.losses.binary_crossentropy],\n",
    "               optimizer=keras.optimizers.Adam(),\n",
    "               metrics=['accuracy'])"
   ]
  },
  {
   "cell_type": "code",
   "execution_count": 27,
   "id": "a89bb605-d07e-4e77-bbf5-8612717543eb",
   "metadata": {},
   "outputs": [],
   "source": [
    "#keras.utils.plot_model(inner_model,show_shapes=True)"
   ]
  },
  {
   "cell_type": "code",
   "execution_count": 28,
   "id": "9743fc4e-8a08-4bd8-a9b6-b13169d4769c",
   "metadata": {},
   "outputs": [],
   "source": [
    "inner_model_input = {\"input_1\":inner_x,\"input_2\":inner_preY,\n",
    "                     \"dec_start/stop\":pre_start}"
   ]
  },
  {
   "cell_type": "code",
   "execution_count": 29,
   "id": "79061d21-ec15-47db-bd0e-f8bc2d19c668",
   "metadata": {},
   "outputs": [],
   "source": [
    "inner_model_target = {\"inner_dec_token_1\":inner_postY,\"start/stop\": post_stop}"
   ]
  },
  {
   "cell_type": "code",
   "execution_count": 30,
   "id": "900947f4-9fbb-4e25-b9b9-5ec7e4cceae0",
   "metadata": {},
   "outputs": [],
   "source": [
    "#try to train it \n",
    "inner_batch_size = 30\n",
    "inner_epochs = 300\n",
    "inner_history = inner_model.fit([inner_x,inner_preY, pre_start], [inner_postY,post_stop],\n",
    "                         batch_size=inner_batch_size,\n",
    "                         epochs=inner_epochs,\n",
    "                         verbose=0,\n",
    "                               validation_data=([inner_x_testing, inner_preY_testing, pre_start[0:100]],[inner_postY_testing, post_stop[0:100]]))"
   ]
  },
  {
   "cell_type": "code",
   "execution_count": 31,
   "id": "a01f0f72-5e33-4aa2-94af-58fd78c43ced",
   "metadata": {},
   "outputs": [],
   "source": [
    "#inner_history.history.keys()"
   ]
  },
  {
   "cell_type": "code",
   "execution_count": 32,
   "id": "33782c7d-e046-4a9f-b5dd-980af980e0cf",
   "metadata": {},
   "outputs": [],
   "source": [
    "# plt.figure(1)  \n",
    "# # summarize history for accuracy \n",
    "# plt.subplot(211)  \n",
    "# plt.plot(inner_history.history['token_1_accuracy'])  \n",
    "# plt.plot(inner_history.history['val_token_1_accuracy']) \n",
    "# plt.title('model accuracy')  \n",
    "# plt.ylabel('reshape_2_accuracy')  \n",
    "# plt.xlabel('epoch')  \n",
    "# # summarize history for loss  \n",
    "# plt.subplot(212)  \n",
    "# plt.plot(inner_history.history['token_1_loss'])\n",
    "# plt.plot(inner_history.history['val_token_1_loss'])  \n",
    "# plt.title('model loss')  \n",
    "# plt.ylabel('loss')  \n",
    "# plt.xlabel('epoch')  \n",
    "# plt.tight_layout()\n",
    "# plt.show()  "
   ]
  },
  {
   "cell_type": "code",
   "execution_count": 33,
   "id": "dc376784-f8d7-40f4-af43-19553086ab81",
   "metadata": {},
   "outputs": [],
   "source": [
    "#accuracy = inner_model.evaluate([inner_x,inner_preY, pre_start], [inner_postY,post_stop])"
   ]
  },
  {
   "cell_type": "code",
   "execution_count": 34,
   "id": "329b27b4-54b2-40a5-8309-7f7eeeb767d5",
   "metadata": {},
   "outputs": [],
   "source": [
    "#accuracy = inner_model.evaluate([inner_x_testing,inner_preY_testing, pre_start[0:100]], [inner_postY_testing,post_stop[0:100]])"
   ]
  },
  {
   "cell_type": "markdown",
   "id": "2c5f3443-aae9-4c70-890f-2377e198eec5",
   "metadata": {},
   "source": [
    "# decouple the model"
   ]
  },
  {
   "cell_type": "code",
   "execution_count": 35,
   "id": "c2ce7ced-90db-442b-bad7-16a22880c9d8",
   "metadata": {},
   "outputs": [],
   "source": [
    "#encoder \n",
    "inner_encoder_model = keras.Model(inner_encoder_input, encoder_states)"
   ]
  },
  {
   "cell_type": "code",
   "execution_count": 36,
   "id": "83c96497-bdca-4b9e-adbd-29e17156a16c",
   "metadata": {},
   "outputs": [],
   "source": [
    "#Decoder \n",
    "inner_decoder_state_input_h = keras.layers.Input(shape=(hidden_size,),\n",
    "                                                name='inner_states_input_h')\n",
    "\n",
    "inner_decoder_state_input_c = keras.layers.Input(shape=(hidden_size,),\n",
    "                                                name='inner_states_input_c')"
   ]
  },
  {
   "cell_type": "code",
   "execution_count": 37,
   "id": "f5e30189-fc1c-4dd1-824e-f342979022fd",
   "metadata": {},
   "outputs": [],
   "source": [
    "# Connect hidden to input(s)\n",
    "inner_decoder_states_input = [inner_decoder_state_input_h,\n",
    "                             inner_decoder_state_input_c]\n",
    "\n",
    "inner_decoder_hidden_output, inner_decoder_state_h, inner_decoder_state_c = inner_decoder_hidden(inner_decoder_concat,\n",
    "              initial_state=inner_decoder_states_input)\n",
    "\n",
    "\n",
    "inner_decoder_states = [inner_decoder_state_h, inner_decoder_state_c]\n",
    "\n",
    "inner_output_reshape_2 = inner_output_reshape_layer(inner_decoder_hidden_output)\n",
    "\n",
    "\n",
    "decoder_dense_t1 = decoder_dense_t1_layer(inner_output_reshape_2)#keras.layers.Dense(inner_encoder_reshape.shape[-1], activation='linear', name=\"token_1\")\n",
    "decoder_dense_t2 = decoder_dense_t2_layer(inner_decoder_hidden_output)#keras.layers.Dense(2, activation='sigmoid', name=\"start/stop\")\n",
    "\n",
    "#inner_output_reshape_2 = keras.layers.Reshape((-1,inner_postY.shape[2],inner_postY.shape[3]))(decoder_dense_t1(inner_decoder_hidden_output))\n",
    "\n",
    "# Connect output to hidden(s)\n",
    "inner_decoder_output = [decoder_dense_t1, decoder_dense_t2] #maybe a problem is here\n",
    "\n"
   ]
  },
  {
   "cell_type": "code",
   "execution_count": null,
   "id": "bf98bbef-eaec-4973-b286-aface153aaf0",
   "metadata": {},
   "outputs": [],
   "source": []
  },
  {
   "cell_type": "code",
   "execution_count": 38,
   "id": "c5380b46-4ea0-451d-92c8-ae490182c299",
   "metadata": {},
   "outputs": [],
   "source": [
    "inner_decoder_model = keras.Model([inner_decoder_input_1, inner_decoder_input_2] + inner_decoder_states_input,\n",
    "                                 inner_decoder_output + inner_decoder_states)"
   ]
  },
  {
   "cell_type": "code",
   "execution_count": 39,
   "id": "efa708c5-8f00-4582-95f1-af34b58c5652",
   "metadata": {},
   "outputs": [],
   "source": [
    "#keras.utils.plot_model(inner_decoder_model, show_shapes= True)"
   ]
  },
  {
   "cell_type": "markdown",
   "id": "ee938619-80c8-46ea-82b8-68d39a8afcbe",
   "metadata": {},
   "source": [
    "# without teacher forcing "
   ]
  },
  {
   "cell_type": "code",
   "execution_count": 40,
   "id": "42c7cad6-a817-465c-93e2-6d1e1702e511",
   "metadata": {},
   "outputs": [],
   "source": [
    "#get the context\n",
    "embedding = inner_encoder_model.predict(inner_x[0:1]) \n",
    "#without teacher forcing\n",
    "\n",
    "input_tokens = np.zeros_like(inner_preY[0:1])\n",
    "\n",
    "input_start = np.zeros_like(pre_start[0:1])\n",
    "\n",
    "input_start[0,0:1,:] = pre_start[0,0:1,:]\n",
    "\n",
    "\n",
    "for i in range(0,3): \n",
    "    output_tokens = inner_decoder_model.predict([input_tokens, input_start] + embedding)\n",
    "    \n",
    "    input_tokens[:,i+1:i+2,:,:] = output_tokens[0][:,i:i+1,:,:] #replace on input_tokens timestep\n",
    "    input_start[:,i+1:i+2,:] = output_tokens[1][:,i:i+1,:]\n",
    "    embedding = output_tokens[2:4]\n",
    "output_tokens = inner_decoder_model.predict([input_tokens, input_start] + embedding)"
   ]
  },
  {
   "cell_type": "markdown",
   "id": "7f17e051-39f7-464c-993d-8b7b46a592f2",
   "metadata": {},
   "source": [
    "# Plug inner decoder's output into outer decoder"
   ]
  },
  {
   "cell_type": "code",
   "execution_count": 41,
   "id": "6e489731-440b-41f0-950e-45838a9c3632",
   "metadata": {},
   "outputs": [],
   "source": [
    "#teacher forced result \n",
    "#output_tokens = inner_model.predict([inner_x[0:1], inner_preY[0:1], pre_start[0:1]])"
   ]
  },
  {
   "cell_type": "code",
   "execution_count": null,
   "id": "0f364403-8878-4bb4-be8f-9c81ca85fb18",
   "metadata": {},
   "outputs": [],
   "source": []
  },
  {
   "cell_type": "code",
   "execution_count": 42,
   "id": "2c71a309-78cb-4e03-a350-104aa3014061",
   "metadata": {},
   "outputs": [],
   "source": [
    "#output_tokens = [inner_postY[0:1], post_stop[0:1]]\n",
    "\n",
    "\n",
    "arr = []\n",
    "\n",
    "for k in range(0,3):\n",
    "    context = output_tokens[0][0][k:k+1,:,:]\n",
    "    i=0\n",
    "    result = np.zeros_like(preY[i:i+1])\n",
    "    result[0:1,0:1] = preY[i:i+1,0:1] # Start only...\n",
    "\n",
    "    for j in range(output_length): #ouput length is 5+1 \n",
    "        tokens = np.argmax(outer_decoder.predict([result,context]),-1)\n",
    "        result[0:1,j+1:j+2] = tokens[0:1, j:j+1]\n",
    "            \n",
    "    result = tokens # Remove start token\n",
    "    arr.append(int_to_letter(result, mapping)[0])\n",
    "output = np.asarray(arr)"
   ]
  },
  {
   "cell_type": "code",
   "execution_count": 43,
   "id": "4f22e798-ccb2-4ff9-a8c1-c0af8c942b35",
   "metadata": {},
   "outputs": [
    {
     "data": {
      "text/plain": [
       "array([['g', 'c', 'g', 'g', 'c', 'stop'],\n",
       "       ['g', 'c', 'g', 'g', 'c', 'stop'],\n",
       "       ['g', 'p', 'g', 'g', 'p', 'stop']], dtype='<U4')"
      ]
     },
     "execution_count": 43,
     "metadata": {},
     "output_type": "execute_result"
    }
   ],
   "source": [
    "output"
   ]
  },
  {
   "cell_type": "code",
   "execution_count": 44,
   "id": "5b90d9d5-bee0-4089-b228-c898f3c1187e",
   "metadata": {},
   "outputs": [
    {
     "data": {
      "text/plain": [
       "array([['w', 'p', 'q', 'n', 'p', 'stop'],\n",
       "       ['v', 'i', 'r', 'c', 'b', 'stop'],\n",
       "       ['d', 'k', 'i', 'w', 'd', 'stop']], dtype='<U4')"
      ]
     },
     "execution_count": 44,
     "metadata": {},
     "output_type": "execute_result"
    }
   ],
   "source": [
    "check = int_to_letter(outer_postY[trainingSet_int[0]-1], mapping)\n",
    "check"
   ]
  },
  {
   "cell_type": "code",
   "execution_count": 45,
   "id": "478fa464-6edc-4594-a48e-f7b03df811dd",
   "metadata": {},
   "outputs": [],
   "source": [
    "#int_to_letter(outer_x[trainingSet_int[0]-1], mapping)"
   ]
  },
  {
   "cell_type": "code",
   "execution_count": 46,
   "id": "7044987f-fdc4-400a-9802-1cec4032b8b6",
   "metadata": {},
   "outputs": [],
   "source": [
    "#word accuracy \n",
    "def word_accuracy(output,check):\n",
    "    count = 0\n",
    "    for i, j in zip(output, check):\n",
    "            if(np.array_equal(i,j)):\n",
    "                count +=1\n",
    "\n",
    "\n",
    "    word_accuracy = count / len(output)\n",
    "    return word_accuracy"
   ]
  },
  {
   "cell_type": "code",
   "execution_count": 47,
   "id": "2d870df7-6b39-4f77-a50d-83daa681f69d",
   "metadata": {},
   "outputs": [],
   "source": [
    "#letter accuracy \n",
    "def letter_accuracy(output, check):\n",
    "    count = 0\n",
    "    for i, j in zip(output, check):\n",
    "            for x, y in zip(i,j):\n",
    "                if(x == y):\n",
    "                    count += 1\n",
    "\n",
    "\n",
    "    letter_accuracy = count / (len(output[0]) * len(output))\n",
    "    return letter_accuracy"
   ]
  },
  {
   "cell_type": "code",
   "execution_count": 48,
   "id": "751921e7-779c-481f-9e70-d7f70635869c",
   "metadata": {},
   "outputs": [],
   "source": [
    "# word_accuracy(output, check)"
   ]
  },
  {
   "cell_type": "markdown",
   "id": "e69f97e8-1e92-45b7-8564-c0d3b63dd3eb",
   "metadata": {},
   "source": [
    "# Testing"
   ]
  },
  {
   "cell_type": "code",
   "execution_count": 49,
   "id": "095a1161-dc51-41f0-a71d-09d164f30464",
   "metadata": {},
   "outputs": [
    {
     "data": {
      "text/plain": [
       "(100, 3, 5, 300)"
      ]
     },
     "execution_count": 49,
     "metadata": {},
     "output_type": "execute_result"
    }
   ],
   "source": [
    "inner_x_testing.shape"
   ]
  },
  {
   "cell_type": "code",
   "execution_count": 50,
   "id": "e7863672-6717-48b9-a1c0-51038f7339bb",
   "metadata": {},
   "outputs": [
    {
     "data": {
      "text/plain": [
       "(200, 4, 2)"
      ]
     },
     "execution_count": 50,
     "metadata": {},
     "output_type": "execute_result"
    }
   ],
   "source": [
    "pre_start.shape"
   ]
  },
  {
   "cell_type": "code",
   "execution_count": 51,
   "id": "73917850-94d5-4c56-b88c-741281287427",
   "metadata": {},
   "outputs": [],
   "source": [
    "word_acc_arr = []\n",
    "letter_acc_arr = []\n",
    "for m in range(0,10): #doing only 5 to save time but should be len(testingSet)\n",
    "    #get the context\n",
    "    embedding = inner_encoder_model.predict(inner_x_testing[m:m+1]) \n",
    "    #without teacher forcing\n",
    "\n",
    "    input_tokens = np.zeros_like(inner_preY_testing[m:m+1])\n",
    "\n",
    "    input_start = np.zeros_like(pre_start[m:m+1])\n",
    "\n",
    "    input_start[0,0:1,:] = pre_start[m,0:1,:]\n",
    "\n",
    "    for i in range(0,3):\n",
    "        \n",
    "        \n",
    "#         output_tokens = inner_decoder_model.predict([input_tokens, input_start] + embedding)\n",
    "\n",
    "#         input_tokens[:,i+1:i+2,:,:] = output_tokens[0][:,i:i+1,:,:] #replace on input_tokens timestep\n",
    "#         input_start[:,i+1:i+2,:] = output_tokens[1][:,i:i+1,:]\n",
    "#         embedding = output_tokens[2:4]\n",
    "        \n",
    "        output_tokens = inner_model.predict([inner_x_testing[m:m+1], input_tokens, input_start])\n",
    "        input_tokens[:,i+1:i+2,:,:] = output_tokens[0][:,i:i+1,:,:] \n",
    "        input_start[:,i+1:i+2,:] = output_tokens[1][:,i:i+1,:]\n",
    "                                       \n",
    "    output_tokens = inner_model.predict([inner_x_testing[m:m+1], input_tokens, input_start])\n",
    "\n",
    "    #output_tokens = [inner_postY_testing[m:m+1], post_stop[m:m+1]]\n",
    "    #output_tokens = inner_decoder_model.predict([input_tokens, input_start] + embedding)\n",
    "\n",
    "    \n",
    "    \n",
    "    \n",
    "    \n",
    "    #teacher forced result \n",
    "    #output_tokens = inner_model.predict([inner_x_testing[m:m+1], inner_preY_testing[m:m+1], pre_start[m:m+1]])\n",
    "    \n",
    "    arr = []\n",
    "\n",
    "    for k in range(0,3):\n",
    "        context = output_tokens[0][0][k:k+1,:,:]\n",
    "        #context = inner_postY_testing[m][k:k+1,:,:]\n",
    "        i=0\n",
    "        input_tokens = np.zeros_like(preY[i:i+1])\n",
    "        input_tokens[0:1,0:1] = preY[i:i+1,0:1] # Start only... and m\n",
    "\n",
    "        for j in range(5): #ouput length is 5+1 \n",
    "            result = np.argmax(outer_decoder.predict([input_tokens,context]),-1)\n",
    "            input_tokens[0:1,j+1:j+2] = result[0:1, j:j+1] #0:1 m\n",
    "        result = np.argmax(outer_decoder.predict([input_tokens,context]),-1) # Remove start token\n",
    "        arr.append(int_to_letter(result, mapping)[0])\n",
    "\n",
    "    output = np.asarray(arr)\n",
    "    #print(output)\n",
    "\n",
    "    check = int_to_letter(outer_postY[testingSet_int[m]-1], mapping)\n",
    "    #print(check)\n",
    "\n",
    "    word_acc_arr.append(word_accuracy(output, check))\n",
    "    letter_acc_arr.append(letter_accuracy(output, check))"
   ]
  },
  {
   "cell_type": "code",
   "execution_count": 52,
   "id": "a444be1c-c1db-4a98-8f88-d1235ca6c1c1",
   "metadata": {},
   "outputs": [
    {
     "data": {
      "text/plain": [
       "array([['w', 'e', 'd', 'r', 'l', 'stop'],\n",
       "       ['d', 'o', 'g', 'v', 'f', 'stop'],\n",
       "       ['c', 'f', 'g', 'w', 'f', 'stop']], dtype='<U4')"
      ]
     },
     "execution_count": 52,
     "metadata": {},
     "output_type": "execute_result"
    }
   ],
   "source": [
    "output"
   ]
  },
  {
   "cell_type": "code",
   "execution_count": 53,
   "id": "3be6c04b-b882-40fb-afd3-595dab4db2fd",
   "metadata": {},
   "outputs": [
    {
     "data": {
      "text/plain": [
       "array([['w', 'e', 'd', 'r', 'l', 'stop'],\n",
       "       ['d', 'o', 'g', 'v', 'f', 'stop'],\n",
       "       ['c', 'f', 'g', 'w', 'e', 'stop']], dtype='<U4')"
      ]
     },
     "execution_count": 53,
     "metadata": {},
     "output_type": "execute_result"
    }
   ],
   "source": [
    "check"
   ]
  },
  {
   "cell_type": "code",
   "execution_count": 54,
   "id": "5c84beb6-8074-47ac-8191-49d9e4089bf1",
   "metadata": {},
   "outputs": [],
   "source": [
    "final_word_acc = sum(word_acc_arr) / len(word_acc_arr)\n",
    "\n",
    "final_letter_acc = sum(letter_acc_arr) / len(letter_acc_arr)"
   ]
  },
  {
   "cell_type": "code",
   "execution_count": 55,
   "id": "d6760027-5c6b-4b37-a2e7-6d500712a907",
   "metadata": {},
   "outputs": [
    {
     "name": "stdout",
     "output_type": "stream",
     "text": [
      "   Generalization Accuracy\n",
      "-----------------------------\n",
      "word_accuracy: 83.333333\n",
      "letter_accuracy: 95.555556\n",
      "\n"
     ]
    }
   ],
   "source": [
    "print('''   Generalization Accuracy\n",
    "-----------------------------\n",
    "word_accuracy: %f\n",
    "letter_accuracy: %f\n",
    "'''%((final_word_acc*100), (final_letter_acc*100)))"
   ]
  },
  {
   "cell_type": "code",
   "execution_count": null,
   "id": "5fab8176-d262-4582-a165-c466b2ec6e14",
   "metadata": {},
   "outputs": [],
   "source": []
  },
  {
   "cell_type": "code",
   "execution_count": null,
   "id": "0a7650e1-b342-4990-acb7-dbd5ad704749",
   "metadata": {},
   "outputs": [],
   "source": []
  },
  {
   "cell_type": "code",
   "execution_count": null,
   "id": "c8e063ce-4cae-4587-bf79-d36e98df8175",
   "metadata": {},
   "outputs": [],
   "source": []
  },
  {
   "cell_type": "code",
   "execution_count": null,
   "id": "e0e5e049-6786-4086-b1c8-63d9541329e3",
   "metadata": {},
   "outputs": [],
   "source": []
  },
  {
   "cell_type": "code",
   "execution_count": null,
   "id": "b7b6bab0-77c5-4d96-af64-9fc77f2e9ed1",
   "metadata": {},
   "outputs": [],
   "source": []
  },
  {
   "cell_type": "code",
   "execution_count": null,
   "id": "911ebe66-1fe2-4757-95ac-21295151ba04",
   "metadata": {},
   "outputs": [],
   "source": []
  },
  {
   "cell_type": "code",
   "execution_count": null,
   "id": "b28e9b9f-960a-4a17-b720-5941a40ed613",
   "metadata": {},
   "outputs": [],
   "source": []
  },
  {
   "cell_type": "code",
   "execution_count": null,
   "id": "ea2b4262-d926-42fa-94be-e518c8bdf131",
   "metadata": {},
   "outputs": [],
   "source": []
  },
  {
   "cell_type": "code",
   "execution_count": null,
   "id": "5e2af3a3-ad95-489c-903d-d7cb637f1260",
   "metadata": {},
   "outputs": [],
   "source": []
  },
  {
   "cell_type": "code",
   "execution_count": null,
   "id": "bdb3c140-0aa4-435f-84f1-3a90aeaf4e87",
   "metadata": {},
   "outputs": [],
   "source": []
  },
  {
   "cell_type": "code",
   "execution_count": null,
   "id": "19ca4063-b8a1-46e0-babe-8c0b00ea7d65",
   "metadata": {},
   "outputs": [],
   "source": []
  }
 ],
 "metadata": {
  "kernelspec": {
   "display_name": "Python 3 (ipykernel)",
   "language": "python",
   "name": "python3"
  },
  "language_info": {
   "codemirror_mode": {
    "name": "ipython",
    "version": 3
   },
   "file_extension": ".py",
   "mimetype": "text/x-python",
   "name": "python",
   "nbconvert_exporter": "python",
   "pygments_lexer": "ipython3",
   "version": "3.9.6"
  }
 },
 "nbformat": 4,
 "nbformat_minor": 5
}
